{
  "nbformat": 4,
  "nbformat_minor": 0,
  "metadata": {
    "colab": {
      "name": "Assignment_2.ipynb",
      "provenance": [],
      "collapsed_sections": [],
      "authorship_tag": "ABX9TyOadzJBxPTaUqom4ph9Ozf8",
      "include_colab_link": true
    },
    "kernelspec": {
      "name": "python3",
      "display_name": "Python 3"
    },
    "accelerator": "GPU"
  },
  "cells": [
    {
      "cell_type": "markdown",
      "metadata": {
        "id": "view-in-github",
        "colab_type": "text"
      },
      "source": [
        "<a href=\"https://colab.research.google.com/github/SakibMostafa/CoLAB_Codes/blob/main/Assignment_2.ipynb\" target=\"_parent\"><img src=\"https://colab.research.google.com/assets/colab-badge.svg\" alt=\"Open In Colab\"/></a>"
      ]
    },
    {
      "cell_type": "code",
      "metadata": {
        "id": "A66UwsTj0RPJ",
        "outputId": "d06eee2b-0c4e-4f8d-fea4-b763b60e70a0",
        "colab": {
          "base_uri": "https://localhost:8080/",
          "height": 350
        }
      },
      "source": [
        "import tensorflow as tf\n",
        "import time\n",
        "import matplotlib.pyplot as plt\n",
        "\n",
        "tf.debugging.set_log_device_placement(True)\n",
        "\n",
        "sizes = [2, 500, 1000, 5000, 10000]\n",
        "\n",
        "cpu_Time = []\n",
        "gpu_Time = []\n",
        "for shapes in sizes:\n",
        "  mat1 = tf.random.uniform(shape = [shapes, shapes], seed = 10, name=\"mat1\")\n",
        "  mat2 = tf.random.uniform(shape = [shapes, shapes], seed = 11, name=\"mat2\")\n",
        "  with tf.device('/CPU:0'):\n",
        "    start_time = time.time()\n",
        "    out_a = tf.matmul(mat1, mat2)\n",
        "    end_time = time.time()\n",
        "    cpu_Time.append((end_time - start_time))\n",
        "\n",
        "  with tf.device('/GPU:0'):\n",
        "    start_time = time.time()\n",
        "    out_a = tf.matmul(mat1, mat2)\n",
        "    end_time = time.time()\n",
        "    gpu_Time.append((end_time - start_time))\n",
        "\n",
        "fig, ax = plt.subplots()\n",
        "ax.plot(sizes, gpu_Time, 'o-', label='GPU')\n",
        "ax.plot(sizes, cpu_Time, 'o--', label='CPU')\n",
        "leg = ax.legend()\n",
        "plt.show()\n",
        "\n",
        "print('n\\tCPU\\t\\t\\tGPU')\n",
        "for i in range(1, len(cpu_Time)):\n",
        "  print(str(sizes[i]) + '\\t' + str(cpu_Time[i]) + '\\t' + str(gpu_Time[i]))"
      ],
      "execution_count": 18,
      "outputs": [
        {
          "output_type": "display_data",
          "data": {
            "image/png": "[encoded data removed]",
            "text/plain": [
              "<Figure size 432x288 with 1 Axes>"
            ]
          },
          "metadata": {
            "tags": [],
            "needs_background": "light"
          }
        },
        {
          "output_type": "stream",
          "text": [
            "n\tCPU\t\t\tGPU\n",
            "500\t0.004695415496826172\t0.0011479854583740234\n",
            "1000\t0.022831201553344727\t0.0017175674438476562\n",
            "5000\t2.087688684463501\t0.0008704662322998047\n",
            "10000\t17.29174566268921\t0.0032830238342285156\n"
          ],
          "name": "stdout"
        }
      ]
    },
    {
      "cell_type": "code",
      "metadata": {
        "id": "m7mwWS533-MS"
      },
      "source": [
        ""
      ],
      "execution_count": null,
      "outputs": []
    }
  ]
}