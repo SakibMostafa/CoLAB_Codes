{
  "nbformat": 4,
  "nbformat_minor": 0,
  "metadata": {
    "colab": {
      "name": "Assignment_2_Question_2.ipynb",
      "provenance": [],
      "collapsed_sections": [],
      "authorship_tag": "ABX9TyN535WYxIUnL0kYMQgTILyh",
      "include_colab_link": true
    },
    "kernelspec": {
      "name": "python3",
      "display_name": "Python 3"
    },
    "accelerator": "GPU"
  },
  "cells": [
    {
      "cell_type": "markdown",
      "metadata": {
        "id": "view-in-github",
        "colab_type": "text"
      },
      "source": [
        "<a href=\"https://colab.research.google.com/github/SakibMostafa/CoLAB_Codes/blob/main/Assignment_2_Question_2.ipynb\" target=\"_parent\"><img src=\"https://colab.research.google.com/assets/colab-badge.svg\" alt=\"Open In Colab\"/></a>"
      ]
    },
    {
      "cell_type": "code",
      "metadata": {
        "id": "A66UwsTj0RPJ",
        "outputId": "d3af0cb4-598d-4b04-9105-fc3a5fd1c7b4",
        "colab": {
          "base_uri": "https://localhost:8080/",
          "height": 622
        }
      },
      "source": [
        "import tensorflow as tf\n",
        "import time\n",
        "import matplotlib.pyplot as plt\n",
        "\n",
        "tf.debugging.set_log_device_placement(True)\n",
        "\n",
        "sizes = [500, 1000, 5000, 10000]\n",
        "\n",
        "cpu_Time = []\n",
        "gpu_Time = []\n",
        "for shapes in sizes:\n",
        "  mat1 = tf.random.uniform(shape = [shapes, shapes], seed = 10, name=\"mat1\")\n",
        "  mat2 = tf.random.uniform(shape = [shapes, shapes], seed = 11, name=\"mat2\")\n",
        "  with tf.device('/CPU:0'):\n",
        "    start_time = time.time()\n",
        "    out_a = tf.matmul(mat1, mat2)\n",
        "    end_time = time.time()\n",
        "    cpu_Time.append((end_time - start_time))\n",
        "\n",
        "  with tf.device('/GPU:0'):\n",
        "    start_time = time.time()\n",
        "    out_a = tf.matmul(mat1, mat2)\n",
        "    end_time = time.time()\n",
        "    gpu_Time.append((end_time - start_time))\n",
        "\n",
        "fig, ax = plt.subplots()\n",
        "ax.plot(sizes, gpu_Time, 'o-', label='GPU')\n",
        "ax.plot(sizes, cpu_Time, 'o--', label='CPU')\n",
        "leg = ax.legend()\n",
        "plt.show()\n",
        "\n",
        "print('n\\tCPU\\t\\t\\tGPU')\n",
        "for i in range(len(sizes)):\n",
        "  print(str(sizes[i]) + '\\t' + str(cpu_Time[i]) + '\\t' + str(gpu_Time[i]))"
      ],
      "execution_count": 3,
      "outputs": [
        {
          "output_type": "stream",
          "text": [
            "Executing op RandomUniform in device /job:localhost/replica:0/task:0/device:GPU:0\n",
            "Executing op RandomUniform in device /job:localhost/replica:0/task:0/device:GPU:0\n",
            "Executing op MatMul in device /job:localhost/replica:0/task:0/device:CPU:0\n",
            "Executing op MatMul in device /job:localhost/replica:0/task:0/device:GPU:0\n",
            "Executing op RandomUniform in device /job:localhost/replica:0/task:0/device:GPU:0\n",
            "Executing op RandomUniform in device /job:localhost/replica:0/task:0/device:GPU:0\n",
            "Executing op MatMul in device /job:localhost/replica:0/task:0/device:CPU:0\n",
            "Executing op MatMul in device /job:localhost/replica:0/task:0/device:GPU:0\n",
            "Executing op RandomUniform in device /job:localhost/replica:0/task:0/device:GPU:0\n",
            "Executing op RandomUniform in device /job:localhost/replica:0/task:0/device:GPU:0\n",
            "Executing op MatMul in device /job:localhost/replica:0/task:0/device:CPU:0\n",
            "Executing op MatMul in device /job:localhost/replica:0/task:0/device:GPU:0\n",
            "Executing op RandomUniform in device /job:localhost/replica:0/task:0/device:GPU:0\n",
            "Executing op RandomUniform in device /job:localhost/replica:0/task:0/device:GPU:0\n",
            "Executing op MatMul in device /job:localhost/replica:0/task:0/device:CPU:0\n",
            "Executing op MatMul in device /job:localhost/replica:0/task:0/device:GPU:0\n"
          ],
          "name": "stdout"
        },
        {
          "output_type": "display_data",
          "data": {
            "image/png": "[encoded data removed]",
            "text/plain": [
              "<Figure size 432x288 with 1 Axes>"
            ]
          },
          "metadata": {
            "tags": [],
            "needs_background": "light"
          }
        },
        {
          "output_type": "stream",
          "text": [
            "n\tCPU\t\t\tGPU\n",
            "500\t0.0077056884765625\t0.001132965087890625\n",
            "1000\t0.026833534240722656\t0.002626657485961914\n",
            "5000\t1.9895861148834229\t0.008731842041015625\n",
            "10000\t16.58369016647339\t0.007130146026611328\n"
          ],
          "name": "stdout"
        }
      ]
    },
    {
      "cell_type": "code",
      "metadata": {
        "id": "m7mwWS533-MS"
      },
      "source": [
        ""
      ],
      "execution_count": null,
      "outputs": []
    }
  ]
}